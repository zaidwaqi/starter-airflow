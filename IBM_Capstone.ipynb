{
  "nbformat": 4,
  "nbformat_minor": 0,
  "metadata": {
    "colab": {
      "name": "IBM Capstone.ipynb",
      "provenance": [],
      "authorship_tag": "ABX9TyOI6S8B/+pUGM39a3UzIOWc",
      "include_colab_link": true
    },
    "kernelspec": {
      "name": "python3",
      "display_name": "Python 3"
    }
  },
  "cells": [
    {
      "cell_type": "markdown",
      "metadata": {
        "id": "view-in-github",
        "colab_type": "text"
      },
      "source": [
        "<a href=\"https://colab.research.google.com/github/zaidwaqi/starter-airflow/blob/master/IBM_Capstone.ipynb\" target=\"_parent\"><img src=\"https://colab.research.google.com/assets/colab-badge.svg\" alt=\"Open In Colab\"/></a>"
      ]
    },
    {
      "cell_type": "code",
      "metadata": {
        "id": "QHDdIkMf6IN1"
      },
      "source": [
        "import pandas as pd\r\n",
        "import numpy as np\r\n",
        "import requests"
      ],
      "execution_count": 1,
      "outputs": []
    },
    {
      "cell_type": "code",
      "metadata": {
        "id": "qRN29OcC6co_"
      },
      "source": [
        "df = pd.read_excel(f'http://www.mot.gov.my/SiteCollectionImages/dataterbuka2/Sektorrel/senarai-stesen-keretapi-tanah-melayu-berhad-ktmb-mengikut-wilayah.xls',\r\n",
        "  skiprows=3).dropna(axis=1, how='all').dropna(axis=0, how='all')"
      ],
      "execution_count": 5,
      "outputs": []
    },
    {
      "cell_type": "code",
      "metadata": {
        "colab": {
          "base_uri": "https://localhost:8080/",
          "height": 195
        },
        "id": "2E43VaEc8MgY",
        "outputId": "d10757d9-5187-4e23-9668-6ee80f2fedeb"
      },
      "source": [
        "df.head()"
      ],
      "execution_count": 6,
      "outputs": [
        {
          "output_type": "execute_result",
          "data": {
            "text/html": [
              "<div>\n",
              "<style scoped>\n",
              "    .dataframe tbody tr th:only-of-type {\n",
              "        vertical-align: middle;\n",
              "    }\n",
              "\n",
              "    .dataframe tbody tr th {\n",
              "        vertical-align: top;\n",
              "    }\n",
              "\n",
              "    .dataframe thead th {\n",
              "        text-align: right;\n",
              "    }\n",
              "</style>\n",
              "<table border=\"1\" class=\"dataframe\">\n",
              "  <thead>\n",
              "    <tr style=\"text-align: right;\">\n",
              "      <th></th>\n",
              "      <th>BIL</th>\n",
              "      <th>NEGARA</th>\n",
              "      <th>NEGERI</th>\n",
              "      <th>WILAYAH</th>\n",
              "      <th>STESEN</th>\n",
              "      <th>LATITUDE</th>\n",
              "      <th>LONGITUDE</th>\n",
              "      <th>ALAMAT</th>\n",
              "      <th>TELEFON</th>\n",
              "    </tr>\n",
              "  </thead>\n",
              "  <tbody>\n",
              "    <tr>\n",
              "      <th>0</th>\n",
              "      <td>1.0</td>\n",
              "      <td>MY</td>\n",
              "      <td>SELANGOR</td>\n",
              "      <td>TENGAH</td>\n",
              "      <td>ABDULLAH HUKUM</td>\n",
              "      <td>3.118735</td>\n",
              "      <td>101.670758</td>\n",
              "      <td>STESEN KTM KOMUTER ABDULLAH HUKUM, 59200 KUALA...</td>\n",
              "      <td>Tiada Maklumat</td>\n",
              "    </tr>\n",
              "    <tr>\n",
              "      <th>1</th>\n",
              "      <td>2.0</td>\n",
              "      <td>MY</td>\n",
              "      <td>KEDAH</td>\n",
              "      <td>UTARA</td>\n",
              "      <td>ALOR SETAR</td>\n",
              "      <td>6.113136</td>\n",
              "      <td>100.369291</td>\n",
              "      <td>STESEN KTM ALOR SETAR, JALAN KOLAM AIR, ALOR M...</td>\n",
              "      <td>04-7314045</td>\n",
              "    </tr>\n",
              "    <tr>\n",
              "      <th>2</th>\n",
              "      <td>3.0</td>\n",
              "      <td>MY</td>\n",
              "      <td>KEDAH</td>\n",
              "      <td>UTARA</td>\n",
              "      <td>ANAK BUKIT</td>\n",
              "      <td>6.183395</td>\n",
              "      <td>100.374874</td>\n",
              "      <td>STESEN ANAK BUKIT, 05150 ALOR SETAR, KEDAH</td>\n",
              "      <td>04-7305578</td>\n",
              "    </tr>\n",
              "    <tr>\n",
              "      <th>3</th>\n",
              "      <td>4.0</td>\n",
              "      <td>MY</td>\n",
              "      <td>SELANGOR</td>\n",
              "      <td>TENGAH</td>\n",
              "      <td>ANGKASAPURI</td>\n",
              "      <td>3.113106</td>\n",
              "      <td>101.673317</td>\n",
              "      <td>PERHENTIAN KTMB ANGKASAPURI,JALAN PANTAI DALAM...</td>\n",
              "      <td>Tiada Maklumat</td>\n",
              "    </tr>\n",
              "    <tr>\n",
              "      <th>4</th>\n",
              "      <td>5.0</td>\n",
              "      <td>MY</td>\n",
              "      <td>PERLIS</td>\n",
              "      <td>UTARA</td>\n",
              "      <td>ARAU</td>\n",
              "      <td>6.431952</td>\n",
              "      <td>100.269002</td>\n",
              "      <td>STESEN KERETAPI ARAU, JALAN STESYEN, 02600, AR...</td>\n",
              "      <td>04-9861225</td>\n",
              "    </tr>\n",
              "  </tbody>\n",
              "</table>\n",
              "</div>"
            ],
            "text/plain": [
              "   BIL  ...         TELEFON\n",
              "0  1.0  ...  Tiada Maklumat\n",
              "1  2.0  ...      04-7314045\n",
              "2  3.0  ...      04-7305578\n",
              "3  4.0  ...  Tiada Maklumat\n",
              "4  5.0  ...      04-9861225\n",
              "\n",
              "[5 rows x 9 columns]"
            ]
          },
          "metadata": {
            "tags": []
          },
          "execution_count": 6
        }
      ]
    }
  ]
}